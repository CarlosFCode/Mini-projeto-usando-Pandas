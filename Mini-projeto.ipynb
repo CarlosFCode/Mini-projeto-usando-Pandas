{
 "cells": [
  {
   "cell_type": "markdown",
   "metadata": {},
   "source": [
    "# Projeto: Análise de Compras em Loja Fictícia\n",
    "\n",
    "#### Objetivo\n",
    " Analisar os dados de clientes e suas compras para gerar insights como:\n",
    "\n",
    "- Qual cliente gastou mais.\n",
    "- Produto mais vendido.\n",
    "- Quantidade total de itens vendidos por categoria.\n"
   ]
  },
  {
   "cell_type": "code",
   "execution_count": 115,
   "metadata": {
    "scrolled": true
   },
   "outputs": [
    {
     "data": {
      "text/html": [
       "<div>\n",
       "<style scoped>\n",
       "    .dataframe tbody tr th:only-of-type {\n",
       "        vertical-align: middle;\n",
       "    }\n",
       "\n",
       "    .dataframe tbody tr th {\n",
       "        vertical-align: top;\n",
       "    }\n",
       "\n",
       "    .dataframe thead th {\n",
       "        text-align: right;\n",
       "    }\n",
       "</style>\n",
       "<table border=\"1\" class=\"dataframe\">\n",
       "  <thead>\n",
       "    <tr style=\"text-align: right;\">\n",
       "      <th></th>\n",
       "      <th>Cliente_Gastou_Mais</th>\n",
       "      <th>Loja_Lucrou_Mais</th>\n",
       "      <th>Categoria</th>\n",
       "      <th>Mais_Vendido</th>\n",
       "      <th>Quantidade_Itens_Vendidos</th>\n",
       "    </tr>\n",
       "  </thead>\n",
       "  <tbody>\n",
       "    <tr>\n",
       "      <th>0</th>\n",
       "      <td>Jim Ramirez</td>\n",
       "      <td>Boa Viagem</td>\n",
       "      <td>Vestuário</td>\n",
       "      <td>Tênis</td>\n",
       "      <td>374</td>\n",
       "    </tr>\n",
       "  </tbody>\n",
       "</table>\n",
       "</div>"
      ],
      "text/plain": [
       "  Cliente_Gastou_Mais Loja_Lucrou_Mais  Categoria Mais_Vendido  \\\n",
       "0         Jim Ramirez       Boa Viagem  Vestuário        Tênis   \n",
       "\n",
       "   Quantidade_Itens_Vendidos  \n",
       "0                        374  "
      ]
     },
     "metadata": {},
     "output_type": "display_data"
    }
   ],
   "source": [
    "import pandas as pd\n",
    "\n",
    "#Criação e tratamento do DataFrame apartir do .csv\n",
    "dados = pd.read_csv('empresa_PE.csv')\n",
    "dados = dados.dropna()\n",
    "dados['Data_Compra'] = pd.to_datetime(dados['Data_Compra'])\n",
    "dados['Quantidade'] = dados['Quantidade'].astype(int)\n",
    "\n",
    "# Fazendo que não repita os nomes dos clientes e somando todas suas compras\n",
    "dados_numericos = dados.groupby('Cliente')[['Quantidade']].sum()\n",
    "dados_nao_numericos = dados.groupby('Cliente')[['Preco_Unitario', 'Produto', 'Categoria', 'Data_Compra', 'Loja']].first()\n",
    "dados = pd.concat([dados_numericos, dados_nao_numericos], axis=1)\n",
    "\n",
    "#Criando nova coluna\n",
    "dados['Total'] = dados['Quantidade'] * dados['Preco_Unitario']\n",
    "\n",
    "\n",
    "#Filtrando qual cliente mais gastou + o valor gasto\n",
    "cliente_que_gastou_mais = dados.groupby('Cliente')[['Categoria', 'Total']].sum().sort_values(by=\"Total\", ascending=False)\n",
    "cliente_mais = cliente_que_gastou_mais.index[0]\n",
    "valor_gasto = cliente_que_gastou_mais.iloc[0]['Total']\n",
    "\n",
    "#Em qual localização a loja lucrou mais\n",
    "mais_lucro = dados.groupby('Loja')['Total'].sum().sort_values(ascending=False).reset_index().iloc[0]['Loja']\n",
    "\n",
    "#Identificar qual produto mais vendido\n",
    "produto_mais_vendido = dados.groupby('Produto')['Total'].sum().sort_values(ascending=False).reset_index().iloc[0]\n",
    "\n",
    "#Quantidade total de itens vendidos por categoria\n",
    "por_Quantidade = dados.groupby('Categoria')['Quantidade'].sum().sort_values(ascending=False).reset_index().iloc[0]['Quantidade']\n",
    "por_categoria = dados.groupby('Categoria')['Quantidade'].sum().sort_values(ascending=False).reset_index().iloc[0]['Categoria']\n",
    "\n",
    "#Criando um dicionario\n",
    "dados_resultado = {\n",
    "    'Cliente_Gastou_Mais': [cliente_mais],\n",
    "    'Loja_Lucrou_Mais': [mais_lucro],\n",
    "    'Categoria': [por_categoria],\n",
    "    'Mais_Vendido': produto_mais_vendido['Produto'],\n",
    "    'Quantidade_Itens_Vendidos': [por_Quantidade]\n",
    "}\n",
    "#Transformando o dicionário em DataFrame\n",
    "df = pd.DataFrame(dados_resultado)\n",
    "\n",
    "#Salvar em csv\n",
    "df.to_csv('Resultado_dados_apurados.csv', index=False)\n",
    "\n",
    "#Ver a base de dados que salvou\n",
    "display(pd.read_csv('Resultado_dados_apurados.csv'))"
   ]
  }
 ],
 "metadata": {
  "kernelspec": {
   "display_name": "Python 3",
   "language": "python",
   "name": "python3"
  },
  "language_info": {
   "codemirror_mode": {
    "name": "ipython",
    "version": 3
   },
   "file_extension": ".py",
   "mimetype": "text/x-python",
   "name": "python",
   "nbconvert_exporter": "python",
   "pygments_lexer": "ipython3",
   "version": "3.12.3"
  }
 },
 "nbformat": 4,
 "nbformat_minor": 4
}
